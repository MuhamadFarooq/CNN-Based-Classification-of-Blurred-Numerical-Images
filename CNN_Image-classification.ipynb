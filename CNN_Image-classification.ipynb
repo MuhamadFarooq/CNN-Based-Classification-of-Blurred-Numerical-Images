{
  "nbformat": 4,
  "nbformat_minor": 0,
  "metadata": {
    "colab": {
      "provenance": []
    },
    "kernelspec": {
      "name": "python3",
      "display_name": "Python 3"
    },
    "language_info": {
      "name": "python"
    }
  },
  "cells": [
    {
      "cell_type": "code",
      "execution_count": 32,
      "metadata": {
        "id": "vW0ZxEyZCc8Y"
      },
      "outputs": [],
      "source": [
        "## import libraries\n",
        "import torch\n",
        "import torch.nn as nn\n",
        "import torch.optim as optim\n",
        "import torch.nn.functional as F\n",
        "from torch.utils.data import DataLoader\n",
        "import torchvision.datasets as datasets\n",
        "import torchvision.transforms as transforms\n",
        "from torchvision.utils import make_grid\n",
        "import numpy as np\n",
        "import matplotlib.pyplot as plt\n",
        "import pandas as pd\n",
        "import sklearn.metrics as metrics"
      ]
    },
    {
      "cell_type": "code",
      "source": [
        "## convert MNIST data into tensor of 4 dimensions (# of images, height, width, channel)\n",
        "transforms = transforms.Compose([transforms.ToTensor()])\n",
        "train_data = datasets.MNIST(root='data', train=True, download=True, transform=transforms)\n",
        "test_data = datasets.MNIST(root='data', train=False, download=True, transform=transforms)"
      ],
      "metadata": {
        "colab": {
          "base_uri": "https://localhost:8080/"
        },
        "id": "V76PKsudGyVI",
        "outputId": "b758e1d7-b78b-44d1-d9f0-e17a143591a9"
      },
      "execution_count": 33,
      "outputs": [
        {
          "output_type": "stream",
          "name": "stderr",
          "text": [
            "100%|██████████| 9.91M/9.91M [00:00<00:00, 11.4MB/s]\n",
            "100%|██████████| 28.9k/28.9k [00:00<00:00, 336kB/s]\n",
            "100%|██████████| 1.65M/1.65M [00:00<00:00, 3.16MB/s]\n",
            "100%|██████████| 4.54k/4.54k [00:00<00:00, 5.95MB/s]\n"
          ]
        }
      ]
    },
    {
      "cell_type": "code",
      "source": [
        "train_data"
      ],
      "metadata": {
        "colab": {
          "base_uri": "https://localhost:8080/"
        },
        "id": "vWXqBIkEITBK",
        "outputId": "0a208a6b-bd35-4f6b-a3ec-dc8f722d69cd"
      },
      "execution_count": 34,
      "outputs": [
        {
          "output_type": "execute_result",
          "data": {
            "text/plain": [
              "Dataset MNIST\n",
              "    Number of datapoints: 60000\n",
              "    Root location: data\n",
              "    Split: Train\n",
              "    StandardTransform\n",
              "Transform: Compose(\n",
              "               ToTensor()\n",
              "           )"
            ]
          },
          "metadata": {},
          "execution_count": 34
        }
      ]
    },
    {
      "cell_type": "code",
      "source": [
        "test_data"
      ],
      "metadata": {
        "colab": {
          "base_uri": "https://localhost:8080/"
        },
        "id": "tegCMTrqIaGe",
        "outputId": "a690b794-4c7f-47e6-98fd-d808b122507f"
      },
      "execution_count": 36,
      "outputs": [
        {
          "output_type": "execute_result",
          "data": {
            "text/plain": [
              "Dataset MNIST\n",
              "    Number of datapoints: 10000\n",
              "    Root location: data\n",
              "    Split: Test\n",
              "    StandardTransform\n",
              "Transform: Compose(\n",
              "               ToTensor()\n",
              "           )"
            ]
          },
          "metadata": {},
          "execution_count": 36
        }
      ]
    },
    {
      "cell_type": "code",
      "source": [
        "## place data into dataloader with batch size\n",
        "batch_size = 16\n",
        "train_loader = DataLoader(train_data, batch_size=batch_size, shuffle=True)\n",
        "test_loader = DataLoader(test_data, batch_size=batch_size, shuffle=False)"
      ],
      "metadata": {
        "id": "4Vu6LTKMJ7KP"
      },
      "execution_count": 37,
      "outputs": []
    },
    {
      "cell_type": "code",
      "source": [
        "## just use 2 CNN layers\n",
        "c1 = nn.Conv2d(in_channels=1, out_channels=6, kernel_size=3, padding=1)\n",
        "c2 = nn.Conv2d(in_channels=6, out_channels=16, kernel_size=3, padding=1)"
      ],
      "metadata": {
        "id": "aYZYUsJ5KnIr"
      },
      "execution_count": 38,
      "outputs": []
    },
    {
      "cell_type": "code",
      "source": [
        "## first use only one image from MNIST dataset\n",
        "for i, (X_train, y_train) in enumerate(train_data):\n",
        "    break"
      ],
      "metadata": {
        "id": "A5xunivqK6iW"
      },
      "execution_count": 39,
      "outputs": []
    },
    {
      "cell_type": "code",
      "source": [
        "X_train.shape"
      ],
      "metadata": {
        "colab": {
          "base_uri": "https://localhost:8080/"
        },
        "id": "7-DUT55ULPgX",
        "outputId": "a06c6741-2dd5-4f67-aacb-1227bc2a4c3e"
      },
      "execution_count": 40,
      "outputs": [
        {
          "output_type": "execute_result",
          "data": {
            "text/plain": [
              "torch.Size([1, 28, 28])"
            ]
          },
          "metadata": {},
          "execution_count": 40
        }
      ]
    },
    {
      "cell_type": "code",
      "source": [
        "x = X_train.view(1,1,28,28)\n",
        "x.shape"
      ],
      "metadata": {
        "colab": {
          "base_uri": "https://localhost:8080/"
        },
        "id": "jYvAp_HwLflq",
        "outputId": "21611efd-36ef-4302-c02c-e02dd7b9bd37"
      },
      "execution_count": 41,
      "outputs": [
        {
          "output_type": "execute_result",
          "data": {
            "text/plain": [
              "torch.Size([1, 1, 28, 28])"
            ]
          },
          "metadata": {},
          "execution_count": 41
        }
      ]
    },
    {
      "cell_type": "code",
      "source": [
        "## first conv\n",
        "x = F.relu(c1(x))\n",
        "x.shape"
      ],
      "metadata": {
        "colab": {
          "base_uri": "https://localhost:8080/"
        },
        "id": "6CI4bqwuLt7R",
        "outputId": "3ade299a-d695-472e-d047-22ff2ce4e349"
      },
      "execution_count": 42,
      "outputs": [
        {
          "output_type": "execute_result",
          "data": {
            "text/plain": [
              "torch.Size([1, 6, 28, 28])"
            ]
          },
          "metadata": {},
          "execution_count": 42
        }
      ]
    },
    {
      "cell_type": "code",
      "source": [
        "## add pooling layer\n",
        "x = F.max_pool2d(x, kernel_size=2, stride=2)\n",
        "x.shape"
      ],
      "metadata": {
        "colab": {
          "base_uri": "https://localhost:8080/"
        },
        "id": "2YnfhMtRMox8",
        "outputId": "e5107bda-f35f-430b-f7f0-a5df0bf937c3"
      },
      "execution_count": 43,
      "outputs": [
        {
          "output_type": "execute_result",
          "data": {
            "text/plain": [
              "torch.Size([1, 6, 14, 14])"
            ]
          },
          "metadata": {},
          "execution_count": 43
        }
      ]
    },
    {
      "cell_type": "code",
      "source": [
        "x = F.relu(c2(x))\n",
        "x.shape"
      ],
      "metadata": {
        "colab": {
          "base_uri": "https://localhost:8080/"
        },
        "id": "7ArjAK2kM1SN",
        "outputId": "64123790-a83e-4e77-f105-13c7b4e9abb6"
      },
      "execution_count": 44,
      "outputs": [
        {
          "output_type": "execute_result",
          "data": {
            "text/plain": [
              "torch.Size([1, 16, 14, 14])"
            ]
          },
          "metadata": {},
          "execution_count": 44
        }
      ]
    },
    {
      "cell_type": "code",
      "source": [
        "## again pooling layer\n",
        "x = F.max_pool2d(x, kernel_size=2, stride=2)\n",
        "x.shape"
      ],
      "metadata": {
        "colab": {
          "base_uri": "https://localhost:8080/"
        },
        "id": "-8mh7usdM8AZ",
        "outputId": "056dd971-aeab-4ea9-f65e-0d4546c9bb91"
      },
      "execution_count": 45,
      "outputs": [
        {
          "output_type": "execute_result",
          "data": {
            "text/plain": [
              "torch.Size([1, 16, 7, 7])"
            ]
          },
          "metadata": {},
          "execution_count": 45
        }
      ]
    },
    {
      "cell_type": "code",
      "source": [
        "## CNN model\n",
        "class CNN_model(nn.Module):\n",
        "    def __init__(self):\n",
        "        super(CNN_model, self).__init__()\n",
        "        self.c1 = nn.Conv2d(in_channels=1, out_channels=6, kernel_size=3, padding=1)\n",
        "        self.c2 = nn.Conv2d(in_channels=6, out_channels=16, kernel_size=3, padding=1)\n",
        "        self.fc1 = nn.Linear(in_features=16*7*7, out_features=120)\n",
        "        self.fc2 = nn.Linear(in_features=120, out_features=84)\n",
        "        self.fc3 = nn.Linear(in_features=84, out_features=10)\n",
        "    def forward(self, x):\n",
        "        x = F.relu(self.c1(x))\n",
        "        x = F.max_pool2d(x, kernel_size=2, stride=2)\n",
        "        x = F.relu(self.c2(x))\n",
        "        x = F.max_pool2d(x, kernel_size=2, stride=2)\n",
        "        x = x.view(-1, 16*7*7)\n",
        "        x = F.relu(self.fc1(x))\n",
        "        x = F.relu(self.fc2(x))\n",
        "        x = self.fc3(x)\n",
        "        return F.log_softmax(x, dim=1)"
      ],
      "metadata": {
        "id": "mE-OOD0dN7MZ"
      },
      "execution_count": 46,
      "outputs": []
    },
    {
      "cell_type": "code",
      "source": [
        "## model implementation\n",
        "torch.manual_seed(41)\n",
        "model = CNN_model()\n",
        "model"
      ],
      "metadata": {
        "colab": {
          "base_uri": "https://localhost:8080/"
        },
        "id": "i6vOejM_P81A",
        "outputId": "c1c3c39e-6a97-49ad-bab5-b037cffd791f"
      },
      "execution_count": 48,
      "outputs": [
        {
          "output_type": "execute_result",
          "data": {
            "text/plain": [
              "CNN_model(\n",
              "  (c1): Conv2d(1, 6, kernel_size=(3, 3), stride=(1, 1), padding=(1, 1))\n",
              "  (c2): Conv2d(6, 16, kernel_size=(3, 3), stride=(1, 1), padding=(1, 1))\n",
              "  (fc1): Linear(in_features=784, out_features=120, bias=True)\n",
              "  (fc2): Linear(in_features=120, out_features=84, bias=True)\n",
              "  (fc3): Linear(in_features=84, out_features=10, bias=True)\n",
              ")"
            ]
          },
          "metadata": {},
          "execution_count": 48
        }
      ]
    },
    {
      "cell_type": "code",
      "source": [
        "## loss and optimizer\n",
        "criterion = nn.CrossEntropyLoss()\n",
        "optimizer = optim.Adam(model.parameters(), lr=0.001)"
      ],
      "metadata": {
        "id": "UU7LJc-KRBj8"
      },
      "execution_count": 49,
      "outputs": []
    },
    {
      "cell_type": "code",
      "source": [
        "\n",
        "import time\n",
        "start = time.time()\n",
        "\n",
        "## create variable to track things\n",
        "epochs = 10\n",
        "train_losses = []\n",
        "test_losses = []\n",
        "train_correct = []\n",
        "test_correct = []\n",
        "\n",
        "## for loop of epochs\n",
        "for i in range(epochs):\n",
        "    trn_corr = 0\n",
        "    tst_corr = 0\n",
        "\n",
        "    ## Train\n",
        "    for b, (X_train, y_train) in enumerate(train_loader):\n",
        "        b+=1  ## start from batch 1\n",
        "\n",
        "        ## apply model\n",
        "        y_pred = model(X_train)\n",
        "        loss = criterion(y_pred, y_train)\n",
        "        predicted = torch.max(y_pred.data, 1)[1]\n",
        "        batch_corr = (predicted == y_train).sum()\n",
        "        trn_corr += batch_corr\n",
        "\n",
        "        ## backpropagation\n",
        "        optimizer.zero_grad()\n",
        "        loss.backward()\n",
        "        optimizer.step()\n",
        "\n",
        "        if b%500 == 0:\n",
        "            print(f'epoch: {i}  loss: {loss.item()}  batch: {b}')\n",
        "    train_losses.append(loss)\n",
        "    train_correct.append(trn_corr)\n",
        "\n",
        "    ## test\n",
        "    with torch.no_grad():\n",
        "        for b, (X_test, y_test) in enumerate(test_loader):\n",
        "            y_val = model(X_test)\n",
        "            predicted = torch.max(y_val.data, 1)[1]  ## add correct predictions\n",
        "            tst_corr += (predicted == y_test).sum()  ## T=1, F=0, and sum\n",
        "\n",
        "    loss = criterion(y_val, y_test)\n",
        "    test_losses.append(loss)\n",
        "    test_correct.append(tst_corr)\n",
        "\n",
        "\n",
        "current_time = time.time()\n",
        "epoch_time = current_time - start\n",
        "print(f'total time: {epoch_time/60} minutes')"
      ],
      "metadata": {
        "colab": {
          "base_uri": "https://localhost:8080/"
        },
        "id": "UZS6hTWjRJM1",
        "outputId": "d530bd2a-1c98-4722-e1c5-72f55aa3e8b4"
      },
      "execution_count": 51,
      "outputs": [
        {
          "output_type": "stream",
          "name": "stdout",
          "text": [
            "epoch: 0  loss: 0.006620950996875763  batch: 500\n",
            "epoch: 0  loss: 0.014094783924520016  batch: 1000\n",
            "epoch: 0  loss: 0.23780031502246857  batch: 1500\n",
            "epoch: 0  loss: 0.006187492981553078  batch: 2000\n",
            "epoch: 0  loss: 0.2972339391708374  batch: 2500\n",
            "epoch: 0  loss: 0.07996436208486557  batch: 3000\n",
            "epoch: 0  loss: 0.011293014511466026  batch: 3500\n",
            "epoch: 1  loss: 0.08494066447019577  batch: 500\n",
            "epoch: 1  loss: 0.0013150112936273217  batch: 1000\n",
            "epoch: 1  loss: 0.0031301076523959637  batch: 1500\n",
            "epoch: 1  loss: 0.0040197488851845264  batch: 2000\n",
            "epoch: 1  loss: 0.00270725111477077  batch: 2500\n",
            "epoch: 1  loss: 0.11369669437408447  batch: 3000\n",
            "epoch: 1  loss: 0.5057998895645142  batch: 3500\n",
            "epoch: 2  loss: 0.005222008563578129  batch: 500\n",
            "epoch: 2  loss: 0.007660682313144207  batch: 1000\n",
            "epoch: 2  loss: 0.0012353337369859219  batch: 1500\n",
            "epoch: 2  loss: 0.028943084180355072  batch: 2000\n",
            "epoch: 2  loss: 0.020209114998579025  batch: 2500\n",
            "epoch: 2  loss: 0.008422953076660633  batch: 3000\n",
            "epoch: 2  loss: 0.00032303587067872286  batch: 3500\n",
            "epoch: 3  loss: 0.0018928321078419685  batch: 500\n",
            "epoch: 3  loss: 0.029104825109243393  batch: 1000\n",
            "epoch: 3  loss: 0.0013330326182767749  batch: 1500\n",
            "epoch: 3  loss: 0.0002077501849271357  batch: 2000\n",
            "epoch: 3  loss: 0.010895594023168087  batch: 2500\n",
            "epoch: 3  loss: 0.0008579045534133911  batch: 3000\n",
            "epoch: 3  loss: 0.16531692445278168  batch: 3500\n",
            "epoch: 4  loss: 0.00010943467350443825  batch: 500\n",
            "epoch: 4  loss: 0.0036340453661978245  batch: 1000\n",
            "epoch: 4  loss: 0.17666345834732056  batch: 1500\n",
            "epoch: 4  loss: 0.00037637021159753203  batch: 2000\n",
            "epoch: 4  loss: 0.03156629949808121  batch: 2500\n",
            "epoch: 4  loss: 0.00015150909894146025  batch: 3000\n",
            "epoch: 4  loss: 0.0019011626718565822  batch: 3500\n",
            "epoch: 5  loss: 0.022522347047924995  batch: 500\n",
            "epoch: 5  loss: 3.467214628471993e-05  batch: 1000\n",
            "epoch: 5  loss: 0.005963136442005634  batch: 1500\n",
            "epoch: 5  loss: 0.0013641850091516972  batch: 2000\n",
            "epoch: 5  loss: 0.14981520175933838  batch: 2500\n",
            "epoch: 5  loss: 0.008303701877593994  batch: 3000\n",
            "epoch: 5  loss: 0.0007301561417989433  batch: 3500\n",
            "epoch: 6  loss: 0.004805770702660084  batch: 500\n",
            "epoch: 6  loss: 0.009050664491951466  batch: 1000\n",
            "epoch: 6  loss: 0.00017495095380581915  batch: 1500\n",
            "epoch: 6  loss: 1.110040921048494e-05  batch: 2000\n",
            "epoch: 6  loss: 0.014546629972755909  batch: 2500\n",
            "epoch: 6  loss: 0.00011316230666125193  batch: 3000\n",
            "epoch: 6  loss: 4.897263352177106e-05  batch: 3500\n",
            "epoch: 7  loss: 1.2069879176124232e-06  batch: 500\n",
            "epoch: 7  loss: 0.008028666488826275  batch: 1000\n",
            "epoch: 7  loss: 0.00032494947663508356  batch: 1500\n",
            "epoch: 7  loss: 1.1324073966534343e-05  batch: 2000\n",
            "epoch: 7  loss: 0.0005899511743336916  batch: 2500\n",
            "epoch: 7  loss: 0.011610813438892365  batch: 3000\n",
            "epoch: 7  loss: 4.133323818678036e-05  batch: 3500\n",
            "epoch: 8  loss: 0.0008014715858735144  batch: 500\n",
            "epoch: 8  loss: 0.047350745648145676  batch: 1000\n",
            "epoch: 8  loss: 3.145353912259452e-05  batch: 1500\n",
            "epoch: 8  loss: 2.473973472660873e-05  batch: 2000\n",
            "epoch: 8  loss: 0.0001226389140356332  batch: 2500\n",
            "epoch: 8  loss: 0.009685170836746693  batch: 3000\n",
            "epoch: 8  loss: 0.0007198313251137733  batch: 3500\n",
            "epoch: 9  loss: 0.6270472407341003  batch: 500\n",
            "epoch: 9  loss: 0.00014876911882311106  batch: 1000\n",
            "epoch: 9  loss: 0.00024792112526483834  batch: 1500\n",
            "epoch: 9  loss: 1.0430809993522416e-07  batch: 2000\n",
            "epoch: 9  loss: 0.24695277214050293  batch: 2500\n",
            "epoch: 9  loss: 2.2289870685199276e-05  batch: 3000\n",
            "epoch: 9  loss: 8.754154987400398e-05  batch: 3500\n",
            "total time: 7.7504755775133765 minutes\n"
          ]
        }
      ]
    },
    {
      "cell_type": "code",
      "source": [
        "## plot loss over epoch\n",
        "plt.plot([loss.item() for loss in train_losses], label='training loss')\n",
        "plt.plot([loss.item() for loss in test_losses], label='testing loss')\n",
        "plt.title('Loss over Epoch')\n",
        "plt.xlabel('Epoch')\n",
        "plt.ylabel('Loss')\n",
        "plt.legend()\n",
        "plt.show()"
      ],
      "metadata": {
        "colab": {
          "base_uri": "https://localhost:8080/",
          "height": 472
        },
        "id": "uV384h2yV7rQ",
        "outputId": "9e8e0936-501e-497a-cd1f-1fdf8ce25865"
      },
      "execution_count": 53,
      "outputs": [
        {
          "output_type": "display_data",
          "data": {
            "text/plain": [
              "<Figure size 640x480 with 1 Axes>"
            ],
            "image/png": "[encoded data removed]"
          },
          "metadata": {}
        }
      ]
    },
    {
      "cell_type": "code",
      "source": [
        "## plot accuracy\n",
        "plt.plot([t/len(train_data) for t in train_correct], label='training accuracy')\n",
        "plt.plot([t/len(test_data) for t in test_correct], label='testing accuracy')\n",
        "plt.title('Accuracy over Epoch')\n",
        "plt.xlabel('Epoch')\n",
        "plt.ylabel('Accuracy')\n",
        "plt.legend()\n",
        "plt.show()"
      ],
      "metadata": {
        "colab": {
          "base_uri": "https://localhost:8080/",
          "height": 472
        },
        "id": "W8ltmtCLXWiM",
        "outputId": "db3afffa-5391-46d6-9e11-f3a86bca5419"
      },
      "execution_count": 54,
      "outputs": [
        {
          "output_type": "display_data",
          "data": {
            "text/plain": [
              "<Figure size 640x480 with 1 Axes>"
            ],
            "image/png": "[encoded data removed]"
          },
          "metadata": {}
        }
      ]
    },
    {
      "cell_type": "code",
      "source": [
        "## Load all test data in one batch without shuffling\n",
        "test_load_everything = DataLoader(test_data, batch_size=10000, shuffle=False)"
      ],
      "metadata": {
        "id": "Krgya3UMXjjK"
      },
      "execution_count": 60,
      "outputs": []
    },
    {
      "cell_type": "code",
      "source": [
        "## Test model and count correct predictions\n",
        "with torch.no_grad():\n",
        "    correct = 0\n",
        "    for X_test, y_test in test_load_everything:\n",
        "        y_val = model(X_test)\n",
        "        predicted = torch.max(y_val.data, 1)[1]\n",
        "        correct += (predicted == y_test).sum()\n",
        "## check if correct\n",
        "correct.item() / len(test_load_everything.dataset)"
      ],
      "metadata": {
        "colab": {
          "base_uri": "https://localhost:8080/"
        },
        "id": "S0_C5TCJXoYF",
        "outputId": "12746c28-32f7-4c10-dfae-64ff6ffcaa1a"
      },
      "execution_count": 61,
      "outputs": [
        {
          "output_type": "execute_result",
          "data": {
            "text/plain": [
              "0.9895"
            ]
          },
          "metadata": {},
          "execution_count": 61
        }
      ]
    },
    {
      "cell_type": "code",
      "source": [
        "## test on any single image\n",
        "test_data[4142][0].reshape(28,28).shape\n",
        "## plot image\n",
        "plt.imshow(test_data[4142][0].reshape(28,28))"
      ],
      "metadata": {
        "colab": {
          "base_uri": "https://localhost:8080/",
          "height": 448
        },
        "id": "bJSfH7iwZEfX",
        "outputId": "a9643c40-6d3c-4122-ce87-5f50123f66fd"
      },
      "execution_count": 63,
      "outputs": [
        {
          "output_type": "execute_result",
          "data": {
            "text/plain": [
              "<matplotlib.image.AxesImage at 0x7837e086de10>"
            ]
          },
          "metadata": {},
          "execution_count": 63
        },
        {
          "output_type": "display_data",
          "data": {
            "text/plain": [
              "<Figure size 640x480 with 1 Axes>"
            ],
            "image/png": "[encoded data removed]"
          },
          "metadata": {}
        }
      ]
    },
    {
      "cell_type": "code",
      "source": [
        "## pass above image into model\n",
        "model.eval()\n",
        "with torch.no_grad():\n",
        "    y_val = model(test_data[4142][0].view(1,1,28,28))  ##batch_size=1, color_channel = 1, image shape = (28,28)\n",
        "\n",
        "## check prediction\n",
        "torch.argmax(y_val)"
      ],
      "metadata": {
        "colab": {
          "base_uri": "https://localhost:8080/"
        },
        "id": "RhQq9l2UZuew",
        "outputId": "80398e21-6f47-41b8-fa97-9754c5b7d65c"
      },
      "execution_count": 64,
      "outputs": [
        {
          "output_type": "execute_result",
          "data": {
            "text/plain": [
              "tensor(7)"
            ]
          },
          "metadata": {},
          "execution_count": 64
        }
      ]
    }
  ]
}